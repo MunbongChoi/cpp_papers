{
 "cells": [
  {
   "cell_type": "code",
   "execution_count": 61,
   "metadata": {},
   "outputs": [],
   "source": [
    "import argparse\n",
    "import json\n",
    "import os\n",
    "import glob\n",
    "\n",
    "import torch\n",
    "import torch.nn as nn\n",
    "import torch.functional as F\n",
    "import torch.optim as optim\n",
    "import librosa\n",
    "\n",
    "from Separator import *\n",
    "from Dataset import *\n",
    "from Layers import *\n",
    "from Models import *\n",
    "from Losses import *\n",
    "from Metrics import *\n",
    "from Utils import *\n",
    "from PyFire import Trainer\n",
    "from VisualizationsAndDemonstrations import *\n",
    "import scipy.io.wavfile as wavfile\n"
   ]
  },
  {
   "cell_type": "code",
   "execution_count": null,
   "metadata": {},
   "outputs": [],
   "source": [
    "date = 230804\n",
    "\n",
    "root = 'Bird'\n",
    "if root[-1] != r'/':\n",
    "    root += r'/'\n",
    "\n",
    "with open(root + 'config.json') as f:\n",
    "    data = f.read()\n",
    "config = json.loads(data)\n",
    " \n",
    "global separator_model_config\n",
    "separator_model_config = config['separator_model_params']\n",
    "\n",
    "file_name = \"1.1.1_103.wav\"\n",
    "\n",
    "#1.4.7_379.wav\n",
    "data = \"D:/MILAB/Experiment/animal_sound_classification/cocktail-party-problem/BioacousticData/Bird/Bird/\" + file_name\n",
    "#noise\n",
    "# data = \"D:/MILAB/Experiment/animal_sound_classification/cocktail-party-problem/BioacousticData/Bird/Noise/22050_Noise_12445.wav\"\n",
    "#신버전\n",
    "# separator_path = \"D:/MILAB/Experiment/animal_sound_classification/cocktail-party-problem/Bird/Separator/Models/saver_epoch68.pt\"\n",
    "#구버전\n",
    "separator_path = \"D:/MILAB/Experiment/animal_sound_classification/cocktail-party-problem/Bird/0731/Separator_v2/Models/saver_epoch98.pt\"\n",
    "\n",
    "data_name = data.split(\".\")[0]\n",
    "data_name = data_name.split(\"/\")[-1]\n",
    "model_name = separator_path.split(\".\")[0]\n",
    "model_name = model_name.split(\"/\")[-1]\n",
    "\n",
    "data, _ = librosa.load(data, sr=22050, duration=0.5)\n",
    "data = torch.Tensor(data).reshape(1,11025)\n",
    "print(data.size())\n",
    "separator = RepUNet(**separator_model_config)\n",
    "\n",
    "y = separator(data)\n",
    "print(y)"
   ]
  },
  {
   "cell_type": "code",
   "execution_count": null,
   "metadata": {},
   "outputs": [],
   "source": [
    "data_np = y.detach().numpy()\n",
    "\n",
    "data_1 = data_np[:, 0, :].reshape(11025)\n",
    "data_2 = data_np[:, 1, :].reshape(11025)\n",
    "\n",
    "sample_rate = 22050\n",
    "file_name_1 = f\"D:/MILAB/Experiment/animal_sound_classification/cocktail-party-problem/Assets/Bird/{date}_{model_name}_{data_name}_separated_1.wav\"\n",
    "file_name_2 = f\"D:/MILAB/Experiment/animal_sound_classification/cocktail-party-problem/Assets/Bird/{date}_{model_name}_{data_name}_separated_2.wav\"\n",
    "\n",
    "wavfile.write(file_name_1, sample_rate, data_1)\n",
    "wavfile.write(file_name_2, sample_rate, data_2)\n"
   ]
  },
  {
   "cell_type": "code",
   "execution_count": null,
   "metadata": {},
   "outputs": [],
   "source": [
    "data_1 = np.array(data_1)\n",
    "plt.figure(figsize=(10, 4))\n",
    "plt.title(\"first data spectrogram\")\n",
    "array = librosa.display.specshow(librosa.amplitude_to_db(np.abs(data_1[0])), sr=sample_rate, x_axis='time', y_axis='hz')\n",
    "plt.colorbar(format='%+2.0f dB')\n",
    "plt.tight_layout()\n",
    "plt.show()"
   ]
  },
  {
   "cell_type": "code",
   "execution_count": null,
   "metadata": {},
   "outputs": [],
   "source": [
    "data_2 = np.array(data_2)\n",
    "plt.figure(figsize=(10, 4))\n",
    "plt.title(\"두 번째 음악 데이터의 스펙트로그램\")\n",
    "librosa.display.specshow(librosa.amplitude_to_db(np.abs(data_2[0])), sr=sample_rate, x_axis='time', y_axis='hz')\n",
    "plt.colorbar(format='%+2.0f dB')\n",
    "plt.tight_layout()\n",
    "plt.show()"
   ]
  },
  {
   "cell_type": "code",
   "execution_count": 64,
   "metadata": {},
   "outputs": [
    {
     "name": "stdout",
     "output_type": "stream",
     "text": [
      "22050\n"
     ]
    }
   ],
   "source": [
    "path = \"c:/Users/Munbong_Choi/Downloads/clean_bird/wavfiles/11713-1.wav\"\n",
    "data, sr = librosa.load(path)\n",
    "print(sr)\n",
    "\n",
    "#noise sr = 22050"
   ]
  },
  {
   "cell_type": "markdown",
   "metadata": {},
   "source": []
  }
 ],
 "metadata": {
  "kernelspec": {
   "display_name": "cock_tail",
   "language": "python",
   "name": "python3"
  },
  "language_info": {
   "codemirror_mode": {
    "name": "ipython",
    "version": 3
   },
   "file_extension": ".py",
   "mimetype": "text/x-python",
   "name": "python",
   "nbconvert_exporter": "python",
   "pygments_lexer": "ipython3",
   "version": "3.8.17"
  },
  "orig_nbformat": 4
 },
 "nbformat": 4,
 "nbformat_minor": 2
}
